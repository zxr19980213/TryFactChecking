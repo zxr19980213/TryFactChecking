{
 "cells": [
  {
   "cell_type": "code",
   "execution_count": 1,
   "metadata": {},
   "outputs": [],
   "source": [
    "import pandas as pd\n",
    "import numpy as np\n",
    "import torch\n",
    "from pytorch_pretrained_bert import BertTokenizer,BertModel\n",
    "import logging\n",
    "import difflib"
   ]
  },
  {
   "cell_type": "code",
   "execution_count": 41,
   "metadata": {
    "collapsed": true
   },
   "outputs": [],
   "source": [
    "data = pd.read_table(\"./DataSet/book/book.txt\" , sep='\\t' , header=None , names=['source','isbn','name','author'])\n",
    "data = data.drop_duplicates().reset_index(drop=True)\n",
    "data.fillna('Not Available', inplace=True)\n",
    "GoldenLabel = pd.read_table(\"./DataSet/book/book_golden.txt\" , sep='\\t' , header=None , names=['isbn','author'])\n",
    "SilverLabel = pd.read_table(\"./DataSet/book/book_silver.txt\" , sep='\\t' , header=None , names=['isbn','author'])\n",
    "SilverLabel = SilverLabel[SilverLabel['isbn']!='F'].reset_index(drop=True)\n",
    "for index,row in data.iterrows():\n",
    "    if len(row['isbn'])==10:\n",
    "        row['isbn'] = '978'+row['isbn']\n",
    "for index,row in GoldenLabel.iterrows():\n",
    "    if len(row['isbn'])==10:\n",
    "        row['isbn'] = '978'+row['isbn']\n",
    "\n",
    "my_golden = pd.DataFrame(GoldenLabel)\n",
    "golden_isbn = GoldenLabel['isbn'].unique()\n",
    "silver_isbn = SilverLabel['isbn'].unique()\n",
    "data_isbn = data['isbn'].unique()\n",
    "count = 0\n",
    "for index,row in SilverLabel.iterrows():\n",
    "    if (row['isbn'] in data_isbn) and (row['isbn'] not in golden_isbn):\n",
    "        my_golden = my_golden.append(row)\n",
    "my_golden.reset_index(drop=True,inplace=True)\n",
    "my_golden.to_csv('./DataSet/book/goldenNsilver.txt',sep='\\t',index=False)"
   ]
  },
  {
   "cell_type": "code",
   "execution_count": 55,
   "metadata": {
    "collapsed": true
   },
   "outputs": [],
   "source": [
    "def sim_Jaccard (str1,str2) :\n",
    "    set1 = set( str1.lower().replace(';',' ').replace(',',' ').replace('.',' ').replace(':',' ').replace('&',' ').\n",
    "               replace('/',' ').replace('\\'',' ').replace('(author)',' ').replace('(joint author)',' ').split() )\n",
    "    set2 = set( str2.lower().replace(';',' ').replace(',',' ').replace('.',' ').replace(':',' ').replace('&',' ').\n",
    "               replace('/',' ').replace('\\'',' ').replace('(author)',' ').replace('(joint author)',' ').split() )\n",
    "    return len(set1&set2)/len(set1|set2)\n",
    "\n",
    "def labelFunc(data,answer,indexK='isbn',indexV='author'):\n",
    "    data_golden = pd.DataFrame()\n",
    "    for index1,row1 in answer.iterrows():\n",
    "        str1 = row1[indexV]\n",
    "        data_slice = pd.DataFrame(data[data[indexK]==row1[indexK]])\n",
    "        data_slice['label']=False\n",
    "        for index2,row2 in data_slice.iterrows():\n",
    "            str2 = row2[indexV]\n",
    "            data_slice.loc[index2,'label'] = ( sim_Jaccard(str1,str2) >= 0.8 )\n",
    "        data_golden = data_golden.append(data_slice)\n",
    "    return data_golden.reset_index(drop=True)\n",
    "data_silver = labelFunc(data,my_golden)\n",
    "data_silver.to_csv('./DataSet/book/silver/claims.txt',sep='\\t',index=False)"
   ]
  },
  {
   "cell_type": "code",
   "execution_count": 5,
   "metadata": {},
   "outputs": [],
   "source": [
    "data = pd.read_csv('./DataSet/book/silver/claims.txt',sep='\\t')"
   ]
  },
  {
   "cell_type": "code",
   "execution_count": 13,
   "metadata": {},
   "outputs": [
    {
     "name": "stdout",
     "output_type": "stream",
     "text": [
      "                 source           isbn  \\\n",
      "2626  Revaluation Books  9780072944846   \n",
      "\n",
      "                                                   name             author  \\\n",
      "2626  SimNet XPert Assessment Standard Edition Relea...  Triad Interactive   \n",
      "\n",
      "      label  \n",
      "2626   True  \n",
      "       source           isbn           name           author  label\n",
      "3167  A1Books  9780201608359  DOS Internals  Chappell, Geoff   True\n",
      "                     source           isbn  \\\n",
      "5400  Borgasorus Books, Inc  9780072966213   \n",
      "\n",
      "                                                   name              author  \\\n",
      "5400  SimNet for Office 2003 Enterprise/Blackboard/W...  Interactive, Triad   \n",
      "\n",
      "      label  \n",
      "5400   True  \n"
     ]
    }
   ],
   "source": [
    "isbn_list = data['isbn'].unique()\n",
    "maxL=0\n",
    "minL=1000\n",
    "for isbn in isbn_list:\n",
    "    sliceL = sum(data['isbn']==isbn)\n",
    "    if(sliceL==1):\n",
    "        print(data[data['isbn']==isbn])\n",
    "    maxL = max(maxL,sliceL)\n",
    "    minL = min(minL,sliceL)"
   ]
  }
 ],
 "metadata": {
  "kernelspec": {
   "display_name": "Python 3",
   "language": "python",
   "name": "python3"
  },
  "language_info": {
   "codemirror_mode": {
    "name": "ipython",
    "version": 3
   },
   "file_extension": ".py",
   "mimetype": "text/x-python",
   "name": "python",
   "nbconvert_exporter": "python",
   "pygments_lexer": "ipython3",
   "version": "3.6.9"
  }
 },
 "nbformat": 4,
 "nbformat_minor": 2
}
