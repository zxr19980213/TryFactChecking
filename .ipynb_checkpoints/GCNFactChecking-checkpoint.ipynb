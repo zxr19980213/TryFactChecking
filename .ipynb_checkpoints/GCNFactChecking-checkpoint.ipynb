{
 "cells": [
  {
   "cell_type": "code",
   "execution_count": 1,
   "metadata": {
    "collapsed": true
   },
   "outputs": [],
   "source": [
    "import time\n",
    "import difflib\n",
    "import pickle\n",
    "import pandas as pd\n",
    "import numpy as np\n",
    "\n",
    "import torch\n",
    "import torch.nn as nn\n",
    "import torch.nn.functional as F\n",
    "\n",
    "import dgl\n",
    "import dgl.function as fn\n",
    "from dgl import DGLGraph\n",
    "\n",
    "import networkx as nx\n",
    "from sklearn.metrics import accuracy_score"
   ]
  },
  {
   "cell_type": "code",
   "execution_count": 2,
   "metadata": {
    "collapsed": true
   },
   "outputs": [],
   "source": [
    "#来自DGLGraph tutorial\n",
    "class NodeApplyModule(nn.Module):\n",
    "    def __init__(self, in_feats, out_feats, activation):\n",
    "        super(NodeApplyModule, self).__init__()\n",
    "        self.linear = nn.Linear(in_feats, out_feats)\n",
    "        #self.conv = nn.Conv1d(in_feats,out_feats,1)\n",
    "        self.activation = activation\n",
    "\n",
    "    def forward(self, node):\n",
    "        #h = self.conv(node.data['h'])\n",
    "        h = self.linear(node.data['h'])\n",
    "        if self.activation is not None:\n",
    "            h = self.activation(h)\n",
    "        return {'h' : h}\n",
    "\n",
    "gcn_msg = fn.copy_src(src='h', out='m')\n",
    "gcn_reduce = fn.sum(msg='m', out='h')\n",
    "\n",
    "class GCN(nn.Module):\n",
    "    def __init__(self, in_feats, out_feats, activation):\n",
    "        super(GCN, self).__init__()\n",
    "        self.apply_mod = NodeApplyModule(in_feats, out_feats, activation)\n",
    "\n",
    "    def forward(self, g, feature):\n",
    "        g.ndata['h'] = feature\n",
    "        g.update_all(gcn_msg, gcn_reduce)\n",
    "        g.apply_nodes(func=self.apply_mod)\n",
    "        return g.ndata.pop('h')\n",
    "    \n",
    "class Net(nn.Module):\n",
    "    def __init__(self):\n",
    "        super(Net, self).__init__()\n",
    "        self.gcn1 = GCN(768, 384, F.relu)\n",
    "        self.gcn2 = GCN(384, 192, F.relu)\n",
    "        self.fc = nn.Linear(192, 2)\n",
    "\n",
    "    def forward(self, g, features):\n",
    "        x = self.gcn1(g, features)\n",
    "        x = self.gcn2(g, x)\n",
    "        x = self.fc(x)\n",
    "        return x\n",
    "    \n",
    "    def predict(self, g, features):\n",
    "        pred = F.softmax(self.forward(g, features))\n",
    "        ans = []\n",
    "        for t in pred:\n",
    "            if t[0]>t[1]:\n",
    "                ans.append(0)\n",
    "            else:\n",
    "                ans.append(1)\n",
    "        return torch.tensor(ans)\n",
    "net = Net()"
   ]
  },
  {
   "cell_type": "code",
   "execution_count": 3,
   "metadata": {
    "collapsed": true
   },
   "outputs": [],
   "source": [
    "#读取DealWithData中golden数据\n",
    "data_golden = pd.read_csv( './DataSet/book/golden/claims_golden.txt' , sep='\\t' )\n",
    "data_golden['encode'] = torch.load('./DataSet/book/golden/claims_golden_encode.pt')\n",
    "GoldenLabel = pd.read_table(\"./DataSet/book/book_golden.txt\" , sep='\\t' , header=None , names=['isbn','author'])"
   ]
  },
  {
   "cell_type": "code",
   "execution_count": 5,
   "metadata": {
    "collapsed": true
   },
   "outputs": [],
   "source": [
    "#随意点划分训练集和测试集，直觉要根据'isbn'划分 -> 改为不直接划分数据集，采用mask方式划分\n",
    "'''\n",
    "data_train = pd.DataFrame(data_golden.drop(data_golden.index,inplace=False))\n",
    "data_test = pd.DataFrame(data_golden.drop(data_golden.index,inplace=False))\n",
    "for i in range(0,int(len(GoldenLabel)/2+1)):\n",
    "    data_trainSlice = data_golden[data_golden['isbn']==GoldenLabel.loc[i]['isbn']]\n",
    "    data_train = data_train.append(data_trainSlice)\n",
    "for i in range(int(len(GoldenLabel)/2+1),len(GoldenLabel)):\n",
    "    data_testSlice = data_golden[data_golden['isbn']==GoldenLabel.loc[i]['isbn']]\n",
    "    data_test = data_test.append(data_testSlice)\n",
    "data_train.reset_index(drop=True,inplace=True)\n",
    "data_test.reset_index(drop=True,inplace=True)\n",
    "'''"
   ]
  },
  {
   "cell_type": "code",
   "execution_count": 67,
   "metadata": {},
   "outputs": [],
   "source": [
    "def divide_dataset(dfw,dfk,test_ratio):\n",
    "    a = np.random.choice(len(dfk), int(len(dfk)*ratio), replace=False)\n",
    "    test_set = set()\n",
    "    for i in range(0,a.shape[0]):\n",
    "        test_set.add(dfk.loc[a[i]]['isbn'])\n",
    "    train_mask = torch.Tensor(size=[len(dfw)]).bool()\n",
    "    test_mask = torch.Tensor(size=[len(dfw)]).bool()\n",
    "    for i in range(0,len(dfw)):\n",
    "        if dfw.loc[i]['isbn'] in test_set:\n",
    "            test_mask[i] = True\n",
    "            train_mask[i] = False\n",
    "        else:\n",
    "            test_mask[i] = False\n",
    "            train_mask[i] = True\n",
    "    return train_mask,test_mask\n",
    "train_mask,test_mask = divide_dataset(data_golden,GoldenLabel,0.5)"
   ]
  },
  {
   "cell_type": "code",
   "execution_count": 24,
   "metadata": {
    "collapsed": true
   },
   "outputs": [],
   "source": [
    "#构建图结构函数，根据训练集和测试集连边 -> 改为基于全体数据连边\n",
    "#此处可优化复杂度？n**2/2 -> kn\n",
    "#此处可根据'book_name'相似度进一步加边\n",
    "def generate_DGLGraph(df):\n",
    "    edge_norm = []\n",
    "    g = DGLGraph()\n",
    "    g.add_nodes(df.shape[0])\n",
    "    for i in range(0,len(df)):\n",
    "        for j in range(i+1,len(df)):\n",
    "            if (df.loc[i][\"source\"]==df.loc[j][\"source\"]):\n",
    "                g.add_edge(i,j)\n",
    "                #edge_norm.append(1.0)\n",
    "                g.add_edge(j,i)\n",
    "                #edge_norm.append(1.0)\n",
    "            elif (df.loc[i][\"isbn\"]==df.loc[j][\"isbn\"]):\n",
    "                str1 = df.loc[i]['author']\n",
    "                str2 = df.loc[j]['author']\n",
    "                #print(str1,str2,difflib.SequenceMatcher(None,str1,str2).quick_ratio())\n",
    "                if ( difflib.SequenceMatcher(None,str1,str2).quick_ratio()>0.8 ):\n",
    "                    g.add_edge(i,j)\n",
    "                    #edge_norm.append(1.0)\n",
    "                    g.add_edge(j,i)\n",
    "                    #edge_norm.append(1.0)\n",
    "    #edge_norm = torch.Tensor(edge_norm).unsqueeze(1)\n",
    "    #g.edata.update({ 'norm': edge_norm })\n",
    "    return g\n",
    "\n",
    "graph_whole = generate_DGLGraph(data_golden)\n",
    "#graph_train = generate_DGLGraph(data_train)\n",
    "#graph_test = generate_DGLGraph(data_test)"
   ]
  },
  {
   "cell_type": "code",
   "execution_count": 25,
   "metadata": {
    "collapsed": true
   },
   "outputs": [],
   "source": [
    "#存储图结构\n",
    "file = open('./DataSet/book/golden/graph_whole.pickle', 'wb')\n",
    "pickle.dump(graph_whole, file)\n",
    "file.close()\n",
    "#file = open('./DataSet/book/golden/graph_train.pickle', 'wb')\n",
    "#pickle.dump(graph_train, file)\n",
    "#file.close()\n",
    "#file = open('./DataSet/book/golden/graph_test.pickle', 'wb')\n",
    "#pickle.dump(graph_test, file)\n",
    "#file.close()"
   ]
  },
  {
   "cell_type": "code",
   "execution_count": 63,
   "metadata": {
    "collapsed": true
   },
   "outputs": [],
   "source": [
    "#加载图结构\n",
    "with open('./DataSet/book/golden/graph_whole.pickle', 'rb') as file:\n",
    "    graph_whole =pickle.load(file)\n",
    "#with open('./DataSet/book/golden/graph_train.pickle', 'rb') as file:\n",
    "#    graph_train =pickle.load(file)\n",
    "#with open('./DataSet/book/golden/graph_test.pickle', 'rb') as file:\n",
    "#    graph_test =pickle.load(file)"
   ]
  },
  {
   "cell_type": "code",
   "execution_count": null,
   "metadata": {
    "collapsed": true
   },
   "outputs": [],
   "source": [
    "#存储和加载图结构的失败尝试\n",
    "'''\n",
    "graph_train_netx = graph_train.to_networkx()\n",
    "graph_test_netx = graph_test.to_networkx()\n",
    "nx.write_gexf(graph_train_netx,'./DataSet/book/golden/train_graph.gexf')\n",
    "nx.write_gexf(graph_test_netx,'./DataSet/book/golden/test_graph.gexf')\n",
    "\n",
    "graph_train_netx = nx.read_gexf('./DataSet/book/golden/train_graph.gexf')\n",
    "graph_test_netx = nx.read_gexf('./DataSet/book/golden/test_graph.gexf')\n",
    "\n",
    "graph_train2 = DGLGraph(graph_train_netx)\n",
    "#graph_train2.from_networkx(graph_train_netx)\n",
    "graph_test2 = DGLGraph(graph_test_netx)\n",
    "#graph_test2.from_networkx(graph_test_netx)\n",
    "'''"
   ]
  },
  {
   "cell_type": "code",
   "execution_count": 61,
   "metadata": {},
   "outputs": [],
   "source": [
    "def extract_featureNlabel(df):\n",
    "    a = torch.zeros(1,768)\n",
    "    c = torch.zeros(1)\n",
    "    for _,row in df.iterrows():\n",
    "        b = row['encode'].reshape([-1,768])\n",
    "        a = torch.cat((a,b),0)\n",
    "        if(row['label']):\n",
    "            d = torch.ones(1)\n",
    "        else:\n",
    "            d = torch.zeros(1)\n",
    "        c = torch.cat((c,d),-1)\n",
    "    return a[1:,:],c[1:].long()\n",
    "whole_feature,whole_label = extract_featureNlabel(data_golden)\n",
    "#train_feature,train_label = extract_featureNlabel(data_train)\n",
    "#test_feature,test_label = extract_featureNlabel(data_test)"
   ]
  },
  {
   "cell_type": "code",
   "execution_count": null,
   "metadata": {},
   "outputs": [
    {
     "name": "stderr",
     "output_type": "stream",
     "text": [
      "D:\\acaconda\\envs\\pytorch_gpu\\lib\\site-packages\\ipykernel_launcher.py:44: UserWarning: Implicit dimension choice for softmax has been deprecated. Change the call to include dim=X as an argument.\n"
     ]
    },
    {
     "name": "stdout",
     "output_type": "stream",
     "text": [
      "Epoch 00000 | Loss 2.1384 | Time(s) 2.8671 | Train_Accu 0.445899 | Test_Accu 0.398068\n",
      "Epoch 00001 | Loss 122.8407 | Time(s) 2.8757 | Train_Accu 0.445899 | Test_Accu 0.398068\n",
      "Epoch 00002 | Loss 80.7766 | Time(s) 2.8903 | Train_Accu 0.632635 | Test_Accu 0.579710\n",
      "Epoch 00003 | Loss 5.3182 | Time(s) 2.8895 | Train_Accu 0.561082 | Test_Accu 0.609662\n",
      "Epoch 00004 | Loss 55.0678 | Time(s) 2.9035 | Train_Accu 0.561082 | Test_Accu 0.608696\n",
      "Epoch 00005 | Loss 81.9156 | Time(s) 2.9230 | Train_Accu 0.561082 | Test_Accu 0.608696\n",
      "Epoch 00006 | Loss 84.1792 | Time(s) 2.9162 | Train_Accu 0.561082 | Test_Accu 0.609662\n",
      "Epoch 00007 | Loss 69.6552 | Time(s) 2.9148 | Train_Accu 0.562827 | Test_Accu 0.612560\n",
      "Epoch 00008 | Loss 42.2779 | Time(s) 2.9155 | Train_Accu 0.724258 | Test_Accu 0.730435\n",
      "Epoch 00009 | Loss 6.2826 | Time(s) 2.9131 | Train_Accu 0.445899 | Test_Accu 0.398068\n",
      "Epoch 00010 | Loss 34.8739 | Time(s) 2.8912 | Train_Accu 0.445026 | Test_Accu 0.398068\n",
      "Epoch 00011 | Loss 48.8157 | Time(s) 2.8950 | Train_Accu 0.447644 | Test_Accu 0.398068\n",
      "Epoch 00012 | Loss 35.8750 | Time(s) 2.8953 | Train_Accu 0.629145 | Test_Accu 0.584541\n",
      "Epoch 00013 | Loss 8.7435 | Time(s) 2.8947 | Train_Accu 0.612565 | Test_Accu 0.660870\n",
      "Epoch 00014 | Loss 14.8253 | Time(s) 2.8975 | Train_Accu 0.600349 | Test_Accu 0.649275\n",
      "Epoch 00015 | Loss 26.8944 | Time(s) 2.9001 | Train_Accu 0.600349 | Test_Accu 0.649275\n",
      "Epoch 00016 | Loss 27.3664 | Time(s) 2.8996 | Train_Accu 0.612565 | Test_Accu 0.663768\n",
      "Epoch 00017 | Loss 17.8559 | Time(s) 2.8990 | Train_Accu 0.748691 | Test_Accu 0.742995\n",
      "Epoch 00018 | Loss 7.5678 | Time(s) 2.8997 | Train_Accu 0.599476 | Test_Accu 0.542995\n",
      "Epoch 00019 | Loss 12.9384 | Time(s) 2.9000 | Train_Accu 0.503490 | Test_Accu 0.436715\n",
      "Epoch 00020 | Loss 18.4592 | Time(s) 2.9007 | Train_Accu 0.642234 | Test_Accu 0.583575\n",
      "Epoch 00021 | Loss 10.7500 | Time(s) 2.9015 | Train_Accu 0.753927 | Test_Accu 0.742995\n",
      "Epoch 00022 | Loss 7.3484 | Time(s) 2.9030 | Train_Accu 0.619546 | Test_Accu 0.668599\n",
      "Epoch 00023 | Loss 12.4863 | Time(s) 2.9012 | Train_Accu 0.621291 | Test_Accu 0.667633\n",
      "Epoch 00024 | Loss 14.5537 | Time(s) 2.8850 | Train_Accu 0.666667 | Test_Accu 0.698551\n",
      "Epoch 00025 | Loss 8.0336 | Time(s) 2.8859 | Train_Accu 0.746946 | Test_Accu 0.717874\n",
      "Epoch 00026 | Loss 6.3162 | Time(s) 2.8821 | Train_Accu 0.554101 | Test_Accu 0.507246\n",
      "Epoch 00027 | Loss 11.7645 | Time(s) 2.8919 | Train_Accu 0.579407 | Test_Accu 0.542029\n",
      "Epoch 00028 | Loss 10.7784 | Time(s) 2.8743 | Train_Accu 0.747818 | Test_Accu 0.712077\n",
      "Epoch 00029 | Loss 6.3275 | Time(s) 2.8776 | Train_Accu 0.732984 | Test_Accu 0.725604\n",
      "Epoch 00030 | Loss 6.2477 | Time(s) 2.8809 | Train_Accu 0.623037 | Test_Accu 0.666667\n",
      "Epoch 00031 | Loss 10.8297 | Time(s) 2.8818 | Train_Accu 0.642234 | Test_Accu 0.683092\n",
      "Epoch 00032 | Loss 9.2865 | Time(s) 2.8826 | Train_Accu 0.731239 | Test_Accu 0.719807\n",
      "Epoch 00033 | Loss 5.5083 | Time(s) 2.8840 | Train_Accu 0.716405 | Test_Accu 0.650242\n",
      "Epoch 00034 | Loss 6.6106 | Time(s) 2.8839 | Train_Accu 0.557592 | Test_Accu 0.512077\n",
      "Epoch 00035 | Loss 10.6932 | Time(s) 2.8857 | Train_Accu 0.710297 | Test_Accu 0.647343\n",
      "Epoch 00036 | Loss 6.4289 | Time(s) 2.8858 | Train_Accu 0.750436 | Test_Accu 0.726570\n",
      "Epoch 00037 | Loss 4.9917 | Time(s) 2.8793 | Train_Accu 0.693717 | Test_Accu 0.712077\n",
      "Epoch 00038 | Loss 7.0764 | Time(s) 2.8799 | Train_Accu 0.646597 | Test_Accu 0.687923\n",
      "Epoch 00039 | Loss 8.0163 | Time(s) 2.8806 | Train_Accu 0.752182 | Test_Accu 0.729469\n",
      "Epoch 00040 | Loss 4.6373 | Time(s) 2.8769 | Train_Accu 0.737347 | Test_Accu 0.714976\n",
      "Epoch 00041 | Loss 4.9144 | Time(s) 2.8727 | Train_Accu 0.677138 | Test_Accu 0.614493\n",
      "Epoch 00042 | Loss 6.1456 | Time(s) 2.8691 | Train_Accu 0.675393 | Test_Accu 0.613527\n",
      "Epoch 00043 | Loss 5.9169 | Time(s) 2.8629 | Train_Accu 0.734729 | Test_Accu 0.706280\n",
      "Epoch 00044 | Loss 4.3320 | Time(s) 2.8595 | Train_Accu 0.739965 | Test_Accu 0.727536\n",
      "Epoch 00045 | Loss 4.0349 | Time(s) 2.8582 | Train_Accu 0.721640 | Test_Accu 0.718841\n",
      "Epoch 00046 | Loss 4.7081 | Time(s) 2.8582 | Train_Accu 0.746946 | Test_Accu 0.733333\n",
      "Epoch 00047 | Loss 3.5545 | Time(s) 2.8589 | Train_Accu 0.736475 | Test_Accu 0.695652\n",
      "Epoch 00048 | Loss 3.7086 | Time(s) 2.8603 | Train_Accu 0.707679 | Test_Accu 0.666667\n"
     ]
    }
   ],
   "source": [
    "criterion = nn.CrossEntropyLoss()\n",
    "optimizer = torch.optim.Adam(net.parameters(), lr=1e-4)\n",
    "dur = []\n",
    "for epoch in range(50):\n",
    "    \n",
    "    t0 = time.time()\n",
    "\n",
    "    pred_prob = net.forward(graph_whole, whole_feature)\n",
    "    loss = criterion(pred_prob[train_mask],whole_label[train_mask])\n",
    "    #pred_prob = net.forward(graph_train, train_feature)\n",
    "    #loss = criterion(pred_prob,train_label)\n",
    "    optimizer.zero_grad()\n",
    "    loss.backward()\n",
    "    optimizer.step()\n",
    "    \n",
    "\n",
    "    pred_label = net.predict(graph_whole, whole_feature)\n",
    "    train_accu = accuracy_score(pred_label[train_mask],whole_label[train_mask])\n",
    "    test_accu = accuracy_score(pred_label[test_mask],whole_label[test_mask])\n",
    "\n",
    "    dur.append(time.time() - t0)\n",
    "    print(\"Epoch {:05d} | Loss {:.4f} | Time(s) {:.4f} | Train_Accu {:4f} | Test_Accu {:4f}\".format(\n",
    "        epoch, loss.item(), np.mean(dur), train_accu,test_accu))"
   ]
  },
  {
   "cell_type": "code",
   "execution_count": null,
   "metadata": {
    "collapsed": true
   },
   "outputs": [],
   "source": [
    "#玩具数据集用以检验图结构生成的准确率。\n",
    "#测试发现difflib的相似度量是字符级的\n",
    "'''\n",
    "dataframe = pd.DataFrame([\n",
    "        [\"a\", \"111222\", \"computer Science\", \"bruce\"],\n",
    "        [\"b\", \"111222\", \"computer Science\", \"Bruce Lee\"],\n",
    "        [\"c\", \"111222\", \"computer Science\", \"mike ,john\"],\n",
    "        [\"a\", \"111223\", \"Hassdsdsaad\", \"kkl\"],\n",
    "        [\"d\", \"111223\", \"Hassdsdaaad\", \"kkkl\"],\n",
    "        [\"c\", \"111224\", \"asdfgh\", \"zxcr\"]\n",
    "    ],\n",
    "    columns=[\"source\", \"isbn\", \"name\", \"author\"]\n",
    ")\n",
    "g = generate_DGLGraph(dataframe)\n",
    "'''"
   ]
  }
 ],
 "metadata": {
  "kernelspec": {
   "display_name": "Python [conda env:pytorch_gpu]",
   "language": "python",
   "name": "conda-env-pytorch_gpu-py"
  },
  "language_info": {
   "codemirror_mode": {
    "name": "ipython",
    "version": 3
   },
   "file_extension": ".py",
   "mimetype": "text/x-python",
   "name": "python",
   "nbconvert_exporter": "python",
   "pygments_lexer": "ipython3",
   "version": "3.6.9"
  }
 },
 "nbformat": 4,
 "nbformat_minor": 2
}
