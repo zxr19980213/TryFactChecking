{
 "cells": [
  {
   "cell_type": "code",
   "execution_count": 1,
   "metadata": {
    "collapsed": true
   },
   "outputs": [],
   "source": [
    "import numpy as np\n",
    "import pandas as pd"
   ]
  },
  {
   "cell_type": "code",
   "execution_count": 2,
   "metadata": {
    "collapsed": true
   },
   "outputs": [],
   "source": [
    "def sim_Jaccard (str1,str2) :\n",
    "    set1 = set( str1.lower().replace(';',' ').replace(',',' ').replace('.',' ').replace(':',' ').replace('&',' ').\n",
    "               replace('/',' ').replace('\\'',' ').replace('(author)',' ').replace('(joint author)',' ').split() )\n",
    "    set2 = set( str2.lower().replace(';',' ').replace(',',' ').replace('.',' ').replace(':',' ').replace('&',' ').\n",
    "               replace('/',' ').replace('\\'',' ').replace('(author)',' ').replace('(joint author)',' ').split() )\n",
    "    return len(set1&set2)/len(set1|set2)"
   ]
  },
  {
   "cell_type": "code",
   "execution_count": 3,
   "metadata": {
    "collapsed": true
   },
   "outputs": [],
   "source": [
    "def MV(df,indexK='isbn',answer='author',withWeight=False,weight='fact_confidence'):\n",
    "    df_mv = pd.DataFrame(columns=[indexK,answer])\n",
    "    for indexV in df[indexK].unique():\n",
    "        data_slice = df[df[indexK]==indexV]\n",
    "        vote_dict = {}\n",
    "        for index,row in data_slice.iterrows():\n",
    "            flag = False\n",
    "            for key in vote_dict.keys():\n",
    "                if ( sim_Jaccard(key,row[answer])>=0.8 ):\n",
    "                    flag = True\n",
    "                    if(not withWeight):\n",
    "                        vote_dict[key] += 1\n",
    "                    else:\n",
    "                        vote_dict[key] += float(row[weight])\n",
    "                    break\n",
    "            if (not flag):\n",
    "                if(not withWeight):\n",
    "                    vote_dict[row[answer]] = 1\n",
    "                else:\n",
    "                    vote_dict[row[answer]] = float(row[weight])\n",
    "        vote_list = sorted(vote_dict.items(), key=lambda d:d[1],reverse=True)\n",
    "        #print({indexK:indexV,answer:vote_list[0][0]})\n",
    "        df_mv = df_mv.append({indexK:indexV,answer:vote_list[0][0]},ignore_index=True)\n",
    "    return df_mv"
   ]
  },
  {
   "cell_type": "code",
   "execution_count": 4,
   "metadata": {
    "collapsed": true
   },
   "outputs": [],
   "source": [
    "dataframe = pd.read_csv( './DataSet/book/golden/claims_golden.txt' , sep='\\t' )\n",
    "df_mv = MV(dataframe)"
   ]
  },
  {
   "cell_type": "code",
   "execution_count": 6,
   "metadata": {},
   "outputs": [],
   "source": [
    "df_mv.set_index('isbn',inplace=True)\n",
    "label = pd.read_csv('./DataSet/book/book_golden.txt',sep='\\t',low_memory=False,names=['isbn','author'],header=None,index_col=0)"
   ]
  },
  {
   "cell_type": "code",
   "execution_count": 13,
   "metadata": {},
   "outputs": [
    {
     "name": "stdout",
     "output_type": "stream",
     "text": [
      "conklin, wm. arthur;  white, gregory b.;  cothren, chuck ;  williams, dwayne ;  davis, roger l.; vs Conklin, Art; Davis, Roger; Williams, Dwayne; Cothren, Chuck\n",
      "suhanovs, dennis ; vs Dennis Suhanovs, Press Certification, Certification Press\n",
      "white, gregory ;   vs White, Gregory B.\n",
      "meadors, todd ;  schmidt, cheryl a.;   vs Meadors, Todd; Schmidt, Cheryl Ann\n",
      "halpin, terry ;  evans, ken ;  hallock, pat ;  maclean, bill ;   vs Halpin, Terry\n",
      "hoos, holger h.;   stutzle, thomas;   vs Hoos, Holger\n",
      "strassner, john c.;   vs John Strassner\n",
      "lacroix, zoe ;  critchlow, terence; vs Not Available\n",
      "loshin, pete ;   vs Loshin, Peter\n",
      "kennedy, james ;  eberhart, russell c.;   vs Eberhart, Russell\n",
      "jones, karen sparck;  willett, peter ;   vs Edited by Jones, Karen Sparck Edited by Willett, Peter\n",
      "widom, jennifer ;  ceri, stefano; vs Widom, Jennifer\n",
      "erbschloe, michael ;   vs Erbschloe\n",
      "etzel, michael ;  dickinson, karen ;   vs Etzel, Michael\n",
      "steele, guy l.;   vs Guy Steele\n",
      "shaw, paul d.;   vs Shaw, Paul\n",
      "boyce, joseph g.;  jennings, dan w.;   vs Daniel Jennings, Joseph Boyce\n",
      "jenssen, c. b.;  kvamdal, t. ;  andersson, h. i.;  Ecer, A.;  Periaux, J.;  Satofuka, N.;  Fox, P.; vs Jenssen, C. B.\n",
      "dowd, mark ;  mcdonald, john ;  schuh, justin ;   vs Dowd, Mark; McDonald, John\n",
      "stevens, w. richard;  wright, gary r. ;   vs W. Richard Stevens\n",
      "hornick, mark f.;  marcade, erik ;  venkayala, sunil ;   vs Hornick, Mark F.\n",
      "aiken, peter ;  allen, m. david;   vs Aiken, Peter\n",
      "moore, martin ;  hancock, steven ; vs Moore\n"
     ]
    },
    {
     "data": {
      "text/plain": [
       "0.8779226190476191"
      ]
     },
     "execution_count": 13,
     "metadata": {},
     "output_type": "execute_result"
    }
   ],
   "source": [
    "JudgeAccu(df_mv,label)"
   ]
  },
  {
   "cell_type": "code",
   "execution_count": null,
   "metadata": {
    "collapsed": true
   },
   "outputs": [],
   "source": [
    "dataframe = pd.read_csv(\"./DataSet/vldbBook/data_golden/data_golden.txt\",sep='\\t')\n",
    "mv_result = MV(dataframe)\n",
    "mv_result.to_csv( './DataSet/vldbBook/MajorityVotingResult.txt' , sep='\\t' , index=False )"
   ]
  },
  {
   "cell_type": "code",
   "execution_count": 12,
   "metadata": {},
   "outputs": [],
   "source": [
    "def JudgeAccu(label,pred,pred_col='author'):\n",
    "    score = 0\n",
    "    for index,row in pred.iterrows():\n",
    "        if not(index in label.index):\n",
    "            print(index,'no answer')\n",
    "            score += 0 \n",
    "        elif sim_Jaccard(row[pred_col],label.loc[index][pred_col])>=0.75:\n",
    "            score +=1\n",
    "        else:\n",
    "            print(row[pred_col],\"vs\",label.loc[index][pred_col])\n",
    "            score += sim_Jaccard(row[pred_col],label.loc[index][pred_col])\n",
    "    return score/len(pred)"
   ]
  },
  {
   "cell_type": "code",
   "execution_count": null,
   "metadata": {
    "collapsed": true
   },
   "outputs": [],
   "source": [
    "label = pd.read_csv('./DataSet/vldbBook/book_truth.txt',sep='\\t',low_memory=False,index_col=0)\n",
    "label.rename(columns={'isbn_10':'isbn','authors_truth':'author'},inplace=True)\n",
    "pred = pd.read_csv('./DataSet/vldbBook/MajorityVotingResult.txt',sep='\\t',low_memory=False,index_col=0)\n",
    "print(JudgeAccu(label,pred))"
   ]
  }
 ],
 "metadata": {
  "kernelspec": {
   "display_name": "Python 3",
   "language": "python",
   "name": "python3"
  },
  "language_info": {
   "codemirror_mode": {
    "name": "ipython",
    "version": 3
   },
   "file_extension": ".py",
   "mimetype": "text/x-python",
   "name": "python",
   "nbconvert_exporter": "python",
   "pygments_lexer": "ipython3",
   "version": "3.6.9"
  }
 },
 "nbformat": 4,
 "nbformat_minor": 2
}
