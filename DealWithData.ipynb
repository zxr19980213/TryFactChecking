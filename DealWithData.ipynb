{
 "cells": [
  {
   "cell_type": "code",
   "execution_count": null,
   "metadata": {
    "collapsed": true
   },
   "outputs": [],
   "source": [
    "import pandas as pd\n",
    "import numpy as np\n",
    "import torch\n",
    "from pytorch_pretrained_bert import BertTokenizer,BertModel\n",
    "import logging\n",
    "import difflib"
   ]
  },
  {
   "cell_type": "markdown",
   "metadata": {},
   "source": [
    "`data_withGoldenLabel`为人工标注标签\n",
    "\n",
    "`data_withSilverLabel`为算法标注标签\n",
    "\n",
    "`data`去重:重复数据直接删除\n",
    "\n",
    "将`author`中`nan`替换为`'Not Available'`"
   ]
  },
  {
   "cell_type": "code",
   "execution_count": 3,
   "metadata": {
    "collapsed": true
   },
   "outputs": [],
   "source": [
    "data = pd.read_table(\"./DataSet/book/book.txt\" , sep='\\t' , header=None , names=['source','isbn','name','author'])\n",
    "data = data.drop_duplicates().reset_index(drop=True)\n",
    "data.fillna('Not Available', inplace=True)\n",
    "data['encode']=None\n",
    "GoldenLabel = pd.read_table(\"./DataSet/book/book_golden.txt\" , sep='\\t' , header=None , names=['isbn','author'])\n",
    "SilverLabel = pd.read_table(\"./DataSet/book/book_silver.txt\" , sep='\\t' , header=None , names=['isbn','author'])\n",
    "SilverLabel = SilverLabel[SilverLabel['isbn']!='F']"
   ]
  },
  {
   "cell_type": "markdown",
   "metadata": {},
   "source": [
    "加载`bert`模型和分词器"
   ]
  },
  {
   "cell_type": "code",
   "execution_count": null,
   "metadata": {
    "collapsed": true
   },
   "outputs": [],
   "source": [
    "logging.basicConfig(level=logging.INFO)\n",
    "tokenizer = BertTokenizer.from_pretrained('bert-base-uncased')\n",
    "model = BertModel.from_pretrained('bert-base-uncased')\n",
    "model.eval()"
   ]
  },
  {
   "cell_type": "markdown",
   "metadata": {},
   "source": [
    "此处逐条处理数据，后期考虑封装成`Processor`\n",
    "\n",
    "将每条数据的三部分拼接向量化还是分别向量化？\n",
    "\n",
    "选用`[CLS]`的最后一个隐层编码\n",
    "\n",
    "GPU内存不足，暂定在CPU上运行"
   ]
  },
  {
   "cell_type": "code",
   "execution_count": null,
   "metadata": {
    "collapsed": true
   },
   "outputs": [],
   "source": [
    "for i in range(0,len(data)):\n",
    "    item = data.loc[i]\n",
    "    text = '[CLS] ' + (item['source']) + ' [SEP] ' + (item['name']) + ' [SEP] ' + (item['author']) + ' [SEP]'\n",
    "    tokenized_text = tokenizer.tokenize(text)\n",
    "    indexed_tokens = tokenizer.convert_tokens_to_ids(tokenized_text)\n",
    "    tokens_tensor = torch.tensor([indexed_tokens])\n",
    "    #torch.cuda.empty_cache()\n",
    "    #model.to('cuda')\n",
    "    #tokens_tensor = tokens_tensor.to('cuda')\n",
    "    with torch.no_grad():\n",
    "        encoded_layers,_ = model(tokens_tensor)\n",
    "    data.loc[i]['encode'] = encoded_layers[11][0][0]"
   ]
  },
  {
   "cell_type": "code",
   "execution_count": 86,
   "metadata": {},
   "outputs": [
    {
     "data": {
      "text/html": [
       "<div>\n",
       "<style scoped>\n",
       "    .dataframe tbody tr th:only-of-type {\n",
       "        vertical-align: middle;\n",
       "    }\n",
       "\n",
       "    .dataframe tbody tr th {\n",
       "        vertical-align: top;\n",
       "    }\n",
       "\n",
       "    .dataframe thead th {\n",
       "        text-align: right;\n",
       "    }\n",
       "</style>\n",
       "<table border=\"1\" class=\"dataframe\">\n",
       "  <thead>\n",
       "    <tr style=\"text-align: right;\">\n",
       "      <th></th>\n",
       "      <th>source</th>\n",
       "      <th>isbn</th>\n",
       "      <th>name</th>\n",
       "      <th>author</th>\n",
       "      <th>encode</th>\n",
       "      <th>label</th>\n",
       "    </tr>\n",
       "  </thead>\n",
       "  <tbody>\n",
       "    <tr>\n",
       "      <th>0</th>\n",
       "      <td>ProService</td>\n",
       "      <td>9780073516677</td>\n",
       "      <td>Computing Essentials</td>\n",
       "      <td>O'Leary, Timothy J.; O'Leary, Linda I.</td>\n",
       "      <td>[tensor(-1.1033), tensor(-0.4017), tensor(-1.0...</td>\n",
       "      <td>True</td>\n",
       "    </tr>\n",
       "    <tr>\n",
       "      <th>1</th>\n",
       "      <td>Collegebooksdirect.com</td>\n",
       "      <td>9780073516677</td>\n",
       "      <td>Computing Essentials</td>\n",
       "      <td>O'Leary, Timothy J.; O'Leary, Linda I.</td>\n",
       "      <td>[tensor(-0.9661), tensor(-0.4374), tensor(-1.0...</td>\n",
       "      <td>True</td>\n",
       "    </tr>\n",
       "    <tr>\n",
       "      <th>2</th>\n",
       "      <td>textbooksNow</td>\n",
       "      <td>9780073516677</td>\n",
       "      <td>Computing Essentials: Complete (2007)</td>\n",
       "      <td>Oleary</td>\n",
       "      <td>[tensor(-0.8278), tensor(-0.3013), tensor(-0.3...</td>\n",
       "      <td>False</td>\n",
       "    </tr>\n",
       "    <tr>\n",
       "      <th>3</th>\n",
       "      <td>www.textbooksrus.com</td>\n",
       "      <td>9780073516677</td>\n",
       "      <td>COMPUTING ESSENTIALS 2007:COMP</td>\n",
       "      <td>OLEARY</td>\n",
       "      <td>[tensor(-0.8151), tensor(-0.1431), tensor(-0.2...</td>\n",
       "      <td>False</td>\n",
       "    </tr>\n",
       "    <tr>\n",
       "      <th>4</th>\n",
       "      <td>LGTextbooks.com</td>\n",
       "      <td>9780073516677</td>\n",
       "      <td>COMPUTING ESSENTIALS 2007 COMPLETE EDITION</td>\n",
       "      <td>O'LEARY</td>\n",
       "      <td>[tensor(-0.8697), tensor(-0.1123), tensor(-0.2...</td>\n",
       "      <td>False</td>\n",
       "    </tr>\n",
       "    <tr>\n",
       "      <th>...</th>\n",
       "      <td>...</td>\n",
       "      <td>...</td>\n",
       "      <td>...</td>\n",
       "      <td>...</td>\n",
       "      <td>...</td>\n",
       "      <td>...</td>\n",
       "    </tr>\n",
       "    <tr>\n",
       "      <th>2176</th>\n",
       "      <td>Gunter Koppon</td>\n",
       "      <td>1555582745</td>\n",
       "      <td>Tru64 UNIX Troubleshooting - Diagnosing and Co...</td>\n",
       "      <td>Moore</td>\n",
       "      <td>[tensor(-0.7027), tensor(-0.0370), tensor(-0.2...</td>\n",
       "      <td>False</td>\n",
       "    </tr>\n",
       "    <tr>\n",
       "      <th>2177</th>\n",
       "      <td>WorldOfBooks</td>\n",
       "      <td>1555582745</td>\n",
       "      <td>Tru64 UNIX Troubleshooting - Diagnosing and Co...</td>\n",
       "      <td>Moore</td>\n",
       "      <td>[tensor(-0.5669), tensor(-0.1366), tensor(-0.2...</td>\n",
       "      <td>False</td>\n",
       "    </tr>\n",
       "    <tr>\n",
       "      <th>2178</th>\n",
       "      <td>Stratford Books</td>\n",
       "      <td>1555582745</td>\n",
       "      <td>Tru64 Unix Troubleshooting: Diagnosing and Cor...</td>\n",
       "      <td>Moore, Martin (Author) Hancock, Steven (Author...</td>\n",
       "      <td>[tensor(-0.7188), tensor(-0.1007), tensor(-0.4...</td>\n",
       "      <td>False</td>\n",
       "    </tr>\n",
       "    <tr>\n",
       "      <th>2179</th>\n",
       "      <td>Gunars Store</td>\n",
       "      <td>1555582745</td>\n",
       "      <td>Tru64 UNIX Troubleshooting - Diagnosing and Co...</td>\n",
       "      <td>Moore</td>\n",
       "      <td>[tensor(-0.6384), tensor(-0.2438), tensor(-0.2...</td>\n",
       "      <td>False</td>\n",
       "    </tr>\n",
       "    <tr>\n",
       "      <th>2180</th>\n",
       "      <td>Limelight Bookshop</td>\n",
       "      <td>1555582745</td>\n",
       "      <td>Tru64 UNIX Troubleshooting: Diagnosing and Cor...</td>\n",
       "      <td>Moore, Martin Alan</td>\n",
       "      <td>[tensor(-0.5645), tensor(0.0254), tensor(-0.53...</td>\n",
       "      <td>False</td>\n",
       "    </tr>\n",
       "  </tbody>\n",
       "</table>\n",
       "<p>2181 rows × 6 columns</p>\n",
       "</div>"
      ],
      "text/plain": [
       "                      source           isbn  \\\n",
       "0                 ProService  9780073516677   \n",
       "1     Collegebooksdirect.com  9780073516677   \n",
       "2               textbooksNow  9780073516677   \n",
       "3       www.textbooksrus.com  9780073516677   \n",
       "4            LGTextbooks.com  9780073516677   \n",
       "...                      ...            ...   \n",
       "2176           Gunter Koppon     1555582745   \n",
       "2177            WorldOfBooks     1555582745   \n",
       "2178         Stratford Books     1555582745   \n",
       "2179            Gunars Store     1555582745   \n",
       "2180      Limelight Bookshop     1555582745   \n",
       "\n",
       "                                                   name  \\\n",
       "0                                  Computing Essentials   \n",
       "1                                  Computing Essentials   \n",
       "2                 Computing Essentials: Complete (2007)   \n",
       "3                        COMPUTING ESSENTIALS 2007:COMP   \n",
       "4            COMPUTING ESSENTIALS 2007 COMPLETE EDITION   \n",
       "...                                                 ...   \n",
       "2176  Tru64 UNIX Troubleshooting - Diagnosing and Co...   \n",
       "2177  Tru64 UNIX Troubleshooting - Diagnosing and Co...   \n",
       "2178  Tru64 Unix Troubleshooting: Diagnosing and Cor...   \n",
       "2179  Tru64 UNIX Troubleshooting - Diagnosing and Co...   \n",
       "2180  Tru64 UNIX Troubleshooting: Diagnosing and Cor...   \n",
       "\n",
       "                                                 author  \\\n",
       "0                O'Leary, Timothy J.; O'Leary, Linda I.   \n",
       "1                O'Leary, Timothy J.; O'Leary, Linda I.   \n",
       "2                                                Oleary   \n",
       "3                                                OLEARY   \n",
       "4                                               O'LEARY   \n",
       "...                                                 ...   \n",
       "2176                                              Moore   \n",
       "2177                                              Moore   \n",
       "2178  Moore, Martin (Author) Hancock, Steven (Author...   \n",
       "2179                                              Moore   \n",
       "2180                                 Moore, Martin Alan   \n",
       "\n",
       "                                                 encode  label  \n",
       "0     [tensor(-1.1033), tensor(-0.4017), tensor(-1.0...   True  \n",
       "1     [tensor(-0.9661), tensor(-0.4374), tensor(-1.0...   True  \n",
       "2     [tensor(-0.8278), tensor(-0.3013), tensor(-0.3...  False  \n",
       "3     [tensor(-0.8151), tensor(-0.1431), tensor(-0.2...  False  \n",
       "4     [tensor(-0.8697), tensor(-0.1123), tensor(-0.2...  False  \n",
       "...                                                 ...    ...  \n",
       "2176  [tensor(-0.7027), tensor(-0.0370), tensor(-0.2...  False  \n",
       "2177  [tensor(-0.5669), tensor(-0.1366), tensor(-0.2...  False  \n",
       "2178  [tensor(-0.7188), tensor(-0.1007), tensor(-0.4...  False  \n",
       "2179  [tensor(-0.6384), tensor(-0.2438), tensor(-0.2...  False  \n",
       "2180  [tensor(-0.5645), tensor(0.0254), tensor(-0.53...  False  \n",
       "\n",
       "[2181 rows x 6 columns]"
      ]
     },
     "execution_count": 86,
     "metadata": {},
     "output_type": "execute_result"
    }
   ],
   "source": [
    "data_golden"
   ]
  },
  {
   "cell_type": "markdown",
   "metadata": {},
   "source": [
    "存储中间结果"
   ]
  },
  {
   "cell_type": "code",
   "execution_count": null,
   "metadata": {
    "collapsed": true
   },
   "outputs": [],
   "source": [
    "torch.save( data['encode'] , './DataSet/book/claims_encode.pt' )\n",
    "data['encode'] = None\n",
    "data.to_csv( './DataSet/book/claims.txt' , sep='\\t' , index=False )"
   ]
  },
  {
   "cell_type": "markdown",
   "metadata": {},
   "source": [
    "读取中间结果"
   ]
  },
  {
   "cell_type": "code",
   "execution_count": null,
   "metadata": {
    "collapsed": true
   },
   "outputs": [],
   "source": [
    "data = None\n",
    "data = pd.read_csv( \"./DataSet/book/claims.txt\" , sep='\\t' )\n",
    "#n_data['source'] = n_data['source'].astype(str)\n",
    "#n_data['isbn'] = n_data['isbn'].astype(str)\n",
    "#n_data['name'] = n_data['name'].astype(str)\n",
    "#n_data['author'] = n_data['author'].astype(str)\n",
    "data['encode'] = torch.load(\"./DataSet/book/claims_encode.pt\")\n",
    "GoldenLabel = pd.read_table(\"./DataSet/book/book_golden.txt\" , sep='\\t' , header=None , names=['isbn','author'])\n",
    "SilverLabel = pd.read_table(\"./DataSet/book/book_silver.txt\" , sep='\\t' , header=None , names=['isbn','author'])"
   ]
  },
  {
   "cell_type": "markdown",
   "metadata": {},
   "source": [
    "这里讨巧使用`difflib`来度量字符串相似度，相似度的阈值后期可调，发现字符串肉眼相似但相似度量极低的情况！考虑第三方库的字符串相似度量？\n",
    "\n",
    "后续可能需要改进，考虑再次引入`bert`"
   ]
  },
  {
   "cell_type": "code",
   "execution_count": 4,
   "metadata": {
    "collapsed": true
   },
   "outputs": [],
   "source": [
    "data['label'] = None\n",
    "data['label'] = data['label'].astype(bool)\n",
    "data_golden = pd.DataFrame(data.drop(data.index,inplace=False))\n",
    "\n",
    "for index1,row1 in GoldenLabel.iterrows():\n",
    "    str1 = row1['author'].lower()\n",
    "    data_goldenSlice = pd.DataFrame(data[data['isbn']==row1['isbn']])\n",
    "    for index2,row2 in data_goldenSlice.iterrows():\n",
    "        str2 = row2['author'].lower()\n",
    "        data_goldenSlice.loc[index2,'label'] = (difflib.SequenceMatcher(None,str1,str2).quick_ratio()>0.8)\n",
    "    data_golden = data_golden.append(data_goldenSlice)"
   ]
  },
  {
   "cell_type": "code",
   "execution_count": 83,
   "metadata": {
    "collapsed": true
   },
   "outputs": [],
   "source": [
    "#使用sklearn的TfidfVectorizer生成特征向量来比较bert的效果，发现比bert好很多？\n",
    "from sklearn.feature_extraction.text import TfidfVectorizer\n",
    "data_golden.reset_index(drop=True,inplace=True)\n",
    "vectorizer = TfidfVectorizer(min_df=0.005,max_df=0.8)\n",
    "vectorizer.fit(data_golden['source'])\n",
    "V1 = vectorizer.transform(data_golden['source']).toarray()\n",
    "vectorizer.fit(data_golden['name'])\n",
    "V2 = vectorizer.transform(data_golden['name']).toarray()\n",
    "vectorizer.fit(data_golden['author'])\n",
    "V3 = vectorizer.transform(data_golden['author']).toarray()\n",
    "feature = np.concatenate((V1,V2,V3),axis=1)\n",
    "feature = torch.Tensor(feature)\n",
    "torch.save( feature , './DataSet/book/golden/claims_golden_encode_tfidf.pt' )"
   ]
  },
  {
   "cell_type": "markdown",
   "metadata": {},
   "source": [
    "存储中间结果"
   ]
  },
  {
   "cell_type": "code",
   "execution_count": null,
   "metadata": {
    "collapsed": true
   },
   "outputs": [],
   "source": [
    "data_golden.reset_index(drop=True,inplace=True)\n",
    "torch.save( data_golden['encode'] , './DataSet/book/golden/claims_golden_encode.pt' )\n",
    "data_golden['encode'] = None\n",
    "data_golden.to_csv( './DataSet/book/golden/claims_golden.txt' , sep='\\t' , index=False )"
   ]
  },
  {
   "cell_type": "markdown",
   "metadata": {},
   "source": [
    "读取中间结果"
   ]
  },
  {
   "cell_type": "code",
   "execution_count": 85,
   "metadata": {
    "collapsed": true
   },
   "outputs": [],
   "source": [
    "data_golden = pd.read_csv( './DataSet/book/golden/claims_golden.txt' , sep='\\t' )\n",
    "data_golden['encode'] = torch.load('./DataSet/book/golden/claims_golden_encode.pt')"
   ]
  },
  {
   "cell_type": "markdown",
   "metadata": {},
   "source": [
    "book_silver.txt数据集有点问题，下一块代码暂且搁置\n",
    "\n",
    "这个`book`数据集问题很大，值得吐槽；`dataset`中存在大量冗余数据；golden中存在两条`isbn`为`F`的奇怪数据；`silver`中许多数据`isbn`和`dataset`对应不上"
   ]
  },
  {
   "cell_type": "code",
   "execution_count": null,
   "metadata": {
    "collapsed": true,
    "scrolled": true
   },
   "outputs": [],
   "source": [
    "'''\n",
    "data['label'] = None\n",
    "data['label'] = data['label'].astype(bool)\n",
    "data_silver = pd.DataFrame(data.drop(data.index,inplace=False))\n",
    "\n",
    "for index1,row1 in SilverLabel.iterrows():\n",
    "    str1 = row1['author'].lower()\n",
    "    data_silverSlice = pd.DataFrame(data[data['isbn']==row1['isbn']])\n",
    "    for index2,row2 in data_silverSlice.iterrows():\n",
    "        str2 = row2['author'].lower()\n",
    "        data_silverSlice.loc[index2,'label'] = (difflib.SequenceMatcher(None,str1,str2).quick_ratio()>0.8)\n",
    "    data_silver = data_silver.append(data_silverSlice)\n",
    "'''"
   ]
  }
 ],
 "metadata": {
  "kernelspec": {
   "display_name": "Python [conda env:pytorch_gpu]",
   "language": "python",
   "name": "conda-env-pytorch_gpu-py"
  },
  "language_info": {
   "codemirror_mode": {
    "name": "ipython",
    "version": 3
   },
   "file_extension": ".py",
   "mimetype": "text/x-python",
   "name": "python",
   "nbconvert_exporter": "python",
   "pygments_lexer": "ipython3",
   "version": "3.6.9"
  }
 },
 "nbformat": 4,
 "nbformat_minor": 2
}
